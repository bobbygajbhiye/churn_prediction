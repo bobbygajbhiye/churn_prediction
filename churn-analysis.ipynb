{
 "cells": [
  {
   "cell_type": "code",
   "execution_count": 1,
   "id": "76b348c6",
   "metadata": {},
   "outputs": [],
   "source": [
    "import pandas as pd\n",
    "import numpy as np\n",
    "from sklearn.preprocessing import LabelEncoder, StandardScaler\n",
    "from sklearn.model_selection import GridSearchCV, train_test_split, cross_val_score, RandomizedSearchCV\n",
    "from sklearn.pipeline import Pipeline\n",
    "from sklearn.linear_model import LogisticRegression\n",
    "from sklearn.svm import SVC\n",
    "from sklearn.naive_bayes import GaussianNB\n",
    "from sklearn.ensemble import RandomForestClassifier\n",
    "from xgboost import XGBClassifier\n",
    "from sklearn.ensemble import AdaBoostClassifier\n",
    "from sklearn.metrics import classification_report\n",
    "\n",
    "import warnings\n",
    "warnings.filterwarnings(\"ignore\")\n",
    "\n",
    "data=pd.read_excel('NewspaperChurn.xlsx')\n",
    "age_dict=data['Age range'].value_counts().to_dict()\n",
    "data['Age range'] = data['Age range'].map(age_dict)"
   ]
  },
  {
   "cell_type": "code",
   "execution_count": 2,
   "id": "196468f2",
   "metadata": {},
   "outputs": [],
   "source": [
    "income_dict=data['HH Income'].value_counts().to_dict()\n",
    "data['HH Income'] = data['HH Income'].map(income_dict)"
   ]
  },
  {
   "cell_type": "code",
   "execution_count": 3,
   "id": "d2974c60",
   "metadata": {},
   "outputs": [],
   "source": [
    "weekly_fee_dict=data['weekly fee'].value_counts().to_dict()\n",
    "data['weekly fee'] = data['weekly fee'].map(weekly_fee_dict)"
   ]
  },
  {
   "cell_type": "code",
   "execution_count": 4,
   "id": "feb58007",
   "metadata": {},
   "outputs": [],
   "source": [
    "data['Deliveryperiod'] = data['Deliveryperiod'].map({'7Day':'SMTWTFS','SoooTFS':'SoooTFS','SatSun':'SoooooS','SooooFS':'SooooFS','oMTWTFo':'oMTWTFo','Mon-Fri':'oMTWTFo','Sun-FriT':'SooooFS','SooooFST':'SooooFS','Fri-SunT':'SooooFS','Sun-Fri':'SooooFS','Fri-Sun':'SooooFS','SoooooST':'SoooooS','SoooooS':'SoooooS','thu-sun':'SoooTFS','SoooTFST':'SoooTFS','Thu-SunT':'SoooTFS','THU-SUN':'SoooTFS','Thu-Sun':'SoooTFS','SUNONLY':'Soooooo','sunonly':'Soooooo','SooooooT':'Soooooo','SunOnlyT':'Soooooo','Soooooo':'Soooooo','7day':'SMTWTFS','7DAY':'SMTWTFS','7DayT':'SMTWTFS','7DayOL':'SMTWTFS','SunOnly':'Soooooo'})"
   ]
  },
  {
   "cell_type": "code",
   "execution_count": 5,
   "id": "a11770b6",
   "metadata": {},
   "outputs": [
    {
     "data": {
      "text/plain": [
       "Soooooo    6506\n",
       "SMTWTFS    6044\n",
       "SoooTFS    2755\n",
       "SoooooS     311\n",
       "SooooFS     227\n",
       "oMTWTFo      12\n",
       "Name: Deliveryperiod, dtype: int64"
      ]
     },
     "execution_count": 5,
     "metadata": {},
     "output_type": "execute_result"
    }
   ],
   "source": [
    "data['Deliveryperiod'].value_counts()"
   ]
  },
  {
   "cell_type": "code",
   "execution_count": 6,
   "id": "19f3314e",
   "metadata": {},
   "outputs": [],
   "source": [
    "data['Language'].fillna('Missing',inplace=True)"
   ]
  },
  {
   "cell_type": "code",
   "execution_count": 7,
   "id": "6c2492ff",
   "metadata": {},
   "outputs": [],
   "source": [
    "data['weekly fee'].fillna(186,inplace=True)"
   ]
  },
  {
   "cell_type": "code",
   "execution_count": 8,
   "id": "d15daf6a",
   "metadata": {},
   "outputs": [],
   "source": [
    "data['Age range'].fillna(108,inplace=True)"
   ]
  },
  {
   "cell_type": "code",
   "execution_count": 9,
   "id": "00669c6f",
   "metadata": {},
   "outputs": [],
   "source": [
    "data['Nielsen Prizm'].fillna('NA',inplace=True)"
   ]
  },
  {
   "cell_type": "code",
   "execution_count": 10,
   "id": "4c8c0a7d",
   "metadata": {},
   "outputs": [
    {
     "name": "stdout",
     "output_type": "stream",
     "text": [
      "SubscriptionID 15855\n",
      "HH Income 18\n",
      "Home Ownership 2\n",
      "Ethnicity 73\n",
      "dummy for Children 2\n",
      "Year Of Residence 56\n",
      "Age range 13\n",
      "Language 38\n",
      "Address 15742\n",
      "State 1\n",
      "City 56\n",
      "County 4\n",
      "Zip Code 117\n",
      "weekly fee 15\n",
      "Deliveryperiod 6\n",
      "Nielsen Prizm 10\n",
      "reward program 116\n",
      "Source Channel 51\n",
      "Subscriber 2\n"
     ]
    }
   ],
   "source": [
    "for feature in data.columns:\n",
    "    print(feature,data[feature].nunique())"
   ]
  },
  {
   "cell_type": "code",
   "execution_count": 11,
   "id": "ae3e518f",
   "metadata": {},
   "outputs": [],
   "source": [
    "data.drop(['SubscriptionID','Address','State'],axis=1,inplace=True)"
   ]
  },
  {
   "cell_type": "code",
   "execution_count": 12,
   "id": "078cedba",
   "metadata": {},
   "outputs": [],
   "source": [
    "data.columns=['Income', 'HomeOwnership', 'Ethnicity', 'DummyForChildren','YearOfResidence', 'AgeRange', 'Language', 'City', 'County', 'ZipCode', 'WeeklyFee', 'DeliveryPeriod', 'NielsenPrizm', 'RewardProgram', 'SourceChannel', 'Subscriber']"
   ]
  },
  {
   "cell_type": "code",
   "execution_count": 13,
   "id": "61a3dae6",
   "metadata": {},
   "outputs": [],
   "source": [
    "data['HomeOwnership']=data['HomeOwnership'].map({'RENTER':0,'OWNER':1})\n",
    "data['DummyForChildren']=data['DummyForChildren'].map({'Y':1,'N':0})\n",
    "data['Subscriber']=data['Subscriber'].map({'YES':1,'NO':0})"
   ]
  },
  {
   "cell_type": "code",
   "execution_count": 14,
   "id": "f18373a2",
   "metadata": {},
   "outputs": [
    {
     "data": {
      "text/plain": [
       "0    12818\n",
       "1     3037\n",
       "Name: Subscriber, dtype: int64"
      ]
     },
     "execution_count": 14,
     "metadata": {},
     "output_type": "execute_result"
    }
   ],
   "source": [
    "data['Subscriber'].value_counts()"
   ]
  },
  {
   "cell_type": "code",
   "execution_count": 15,
   "id": "9f832d8d",
   "metadata": {},
   "outputs": [],
   "source": [
    "le=LabelEncoder()\n",
    "for feature in ['Ethnicity','Language','City','County','DeliveryPeriod','NielsenPrizm','SourceChannel']:\n",
    "    data[feature]=le.fit_transform(data[feature])"
   ]
  },
  {
   "cell_type": "code",
   "execution_count": 16,
   "id": "70cc6562",
   "metadata": {},
   "outputs": [
    {
     "data": {
      "text/html": [
       "<div>\n",
       "<style scoped>\n",
       "    .dataframe tbody tr th:only-of-type {\n",
       "        vertical-align: middle;\n",
       "    }\n",
       "\n",
       "    .dataframe tbody tr th {\n",
       "        vertical-align: top;\n",
       "    }\n",
       "\n",
       "    .dataframe thead th {\n",
       "        text-align: right;\n",
       "    }\n",
       "</style>\n",
       "<table border=\"1\" class=\"dataframe\">\n",
       "  <thead>\n",
       "    <tr style=\"text-align: right;\">\n",
       "      <th></th>\n",
       "      <th>Income</th>\n",
       "      <th>HomeOwnership</th>\n",
       "      <th>Ethnicity</th>\n",
       "      <th>DummyForChildren</th>\n",
       "      <th>YearOfResidence</th>\n",
       "      <th>AgeRange</th>\n",
       "      <th>Language</th>\n",
       "      <th>City</th>\n",
       "      <th>County</th>\n",
       "      <th>ZipCode</th>\n",
       "      <th>WeeklyFee</th>\n",
       "      <th>DeliveryPeriod</th>\n",
       "      <th>NielsenPrizm</th>\n",
       "      <th>RewardProgram</th>\n",
       "      <th>SourceChannel</th>\n",
       "      <th>Subscriber</th>\n",
       "    </tr>\n",
       "  </thead>\n",
       "  <tbody>\n",
       "    <tr>\n",
       "      <th>0</th>\n",
       "      <td>916</td>\n",
       "      <td>0</td>\n",
       "      <td>23</td>\n",
       "      <td>0</td>\n",
       "      <td>1</td>\n",
       "      <td>856.0</td>\n",
       "      <td>12</td>\n",
       "      <td>32</td>\n",
       "      <td>0</td>\n",
       "      <td>90802</td>\n",
       "      <td>351.0</td>\n",
       "      <td>0</td>\n",
       "      <td>1</td>\n",
       "      <td>0</td>\n",
       "      <td>6</td>\n",
       "      <td>0</td>\n",
       "    </tr>\n",
       "    <tr>\n",
       "      <th>1</th>\n",
       "      <td>226</td>\n",
       "      <td>1</td>\n",
       "      <td>72</td>\n",
       "      <td>1</td>\n",
       "      <td>14</td>\n",
       "      <td>1913.0</td>\n",
       "      <td>23</td>\n",
       "      <td>38</td>\n",
       "      <td>1</td>\n",
       "      <td>92657</td>\n",
       "      <td>2950.0</td>\n",
       "      <td>4</td>\n",
       "      <td>5</td>\n",
       "      <td>0</td>\n",
       "      <td>38</td>\n",
       "      <td>1</td>\n",
       "    </tr>\n",
       "    <tr>\n",
       "      <th>2</th>\n",
       "      <td>1772</td>\n",
       "      <td>1</td>\n",
       "      <td>33</td>\n",
       "      <td>1</td>\n",
       "      <td>7</td>\n",
       "      <td>1878.0</td>\n",
       "      <td>7</td>\n",
       "      <td>21</td>\n",
       "      <td>1</td>\n",
       "      <td>92604</td>\n",
       "      <td>2950.0</td>\n",
       "      <td>4</td>\n",
       "      <td>5</td>\n",
       "      <td>0</td>\n",
       "      <td>38</td>\n",
       "      <td>1</td>\n",
       "    </tr>\n",
       "    <tr>\n",
       "      <th>3</th>\n",
       "      <td>514</td>\n",
       "      <td>1</td>\n",
       "      <td>17</td>\n",
       "      <td>0</td>\n",
       "      <td>23</td>\n",
       "      <td>1793.0</td>\n",
       "      <td>7</td>\n",
       "      <td>28</td>\n",
       "      <td>1</td>\n",
       "      <td>92677</td>\n",
       "      <td>2383.0</td>\n",
       "      <td>4</td>\n",
       "      <td>5</td>\n",
       "      <td>1</td>\n",
       "      <td>28</td>\n",
       "      <td>0</td>\n",
       "    </tr>\n",
       "    <tr>\n",
       "      <th>4</th>\n",
       "      <td>879</td>\n",
       "      <td>1</td>\n",
       "      <td>33</td>\n",
       "      <td>0</td>\n",
       "      <td>23</td>\n",
       "      <td>1463.0</td>\n",
       "      <td>7</td>\n",
       "      <td>42</td>\n",
       "      <td>1</td>\n",
       "      <td>92688</td>\n",
       "      <td>126.0</td>\n",
       "      <td>1</td>\n",
       "      <td>4</td>\n",
       "      <td>0</td>\n",
       "      <td>9</td>\n",
       "      <td>1</td>\n",
       "    </tr>\n",
       "  </tbody>\n",
       "</table>\n",
       "</div>"
      ],
      "text/plain": [
       "   Income  HomeOwnership  Ethnicity  DummyForChildren  YearOfResidence  \\\n",
       "0     916              0         23                 0                1   \n",
       "1     226              1         72                 1               14   \n",
       "2    1772              1         33                 1                7   \n",
       "3     514              1         17                 0               23   \n",
       "4     879              1         33                 0               23   \n",
       "\n",
       "   AgeRange  Language  City  County  ZipCode  WeeklyFee  DeliveryPeriod  \\\n",
       "0     856.0        12    32       0    90802      351.0               0   \n",
       "1    1913.0        23    38       1    92657     2950.0               4   \n",
       "2    1878.0         7    21       1    92604     2950.0               4   \n",
       "3    1793.0         7    28       1    92677     2383.0               4   \n",
       "4    1463.0         7    42       1    92688      126.0               1   \n",
       "\n",
       "   NielsenPrizm  RewardProgram  SourceChannel  Subscriber  \n",
       "0             1              0              6           0  \n",
       "1             5              0             38           1  \n",
       "2             5              0             38           1  \n",
       "3             5              1             28           0  \n",
       "4             4              0              9           1  "
      ]
     },
     "execution_count": 16,
     "metadata": {},
     "output_type": "execute_result"
    }
   ],
   "source": [
    "data.head()"
   ]
  },
  {
   "cell_type": "markdown",
   "id": "104a403c",
   "metadata": {},
   "source": [
    "### Train Test Split"
   ]
  },
  {
   "cell_type": "code",
   "execution_count": 17,
   "id": "a5c8b6e4",
   "metadata": {},
   "outputs": [],
   "source": [
    "x_train,x_test,y_train,y_test=train_test_split(data.iloc[:,:-1],data['Subscriber'])"
   ]
  },
  {
   "cell_type": "markdown",
   "id": "57e38a68",
   "metadata": {},
   "source": [
    "### Logistic Regression"
   ]
  },
  {
   "cell_type": "code",
   "execution_count": 18,
   "id": "be33927e",
   "metadata": {},
   "outputs": [
    {
     "name": "stdout",
     "output_type": "stream",
     "text": [
      "LogisticRegressionScore 0.8161636494827356\n",
      "LogisticRegressionParams {'lr__C': 1.0}\n"
     ]
    }
   ],
   "source": [
    "lr_pipe = Pipeline(steps=[('lr_ss', StandardScaler()),('lr', LogisticRegression())])\n",
    "\n",
    "lr_values = {'lr__C': [1.0]}       \n",
    "\n",
    "grid_lr = GridSearchCV(lr_pipe, lr_values, cv=5, n_jobs = -1)\n",
    "grid_lr.fit(x_train, y_train)\n",
    "print('LogisticRegressionScore', grid_lr.best_score_)\n",
    "print('LogisticRegressionParams', grid_lr.best_params_)"
   ]
  },
  {
   "cell_type": "markdown",
   "id": "85503c71",
   "metadata": {},
   "source": [
    "### Support Vector Machines"
   ]
  },
  {
   "cell_type": "code",
   "execution_count": 19,
   "id": "4dcf47c7",
   "metadata": {},
   "outputs": [
    {
     "name": "stdout",
     "output_type": "stream",
     "text": [
      "SVMScore 0.8200321286162812\n",
      "SVMParams {'svm__kernel': 'rbf'}\n"
     ]
    }
   ],
   "source": [
    "svm_pipe = Pipeline(steps=[(\"svm_ss\", StandardScaler()),(\"svm\", SVC())])\n",
    "\n",
    "svm_values = {\n",
    "    'svm__kernel' : ['linear', 'poly', 'rbf', 'sigmoid', 'precomputed']\n",
    "            }\n",
    "\n",
    "grid_svm = GridSearchCV(svm_pipe, svm_values, cv=5, n_jobs = -1)\n",
    "grid_svm.fit(x_train, y_train)\n",
    "print('SVMScore', grid_svm.best_score_)\n",
    "print('SVMParams', grid_svm.best_params_)"
   ]
  },
  {
   "cell_type": "markdown",
   "id": "bb40b149",
   "metadata": {},
   "source": [
    "### Naive Bayes"
   ]
  },
  {
   "cell_type": "code",
   "execution_count": 20,
   "id": "a3e2531d",
   "metadata": {},
   "outputs": [
    {
     "name": "stdout",
     "output_type": "stream",
     "text": [
      "NaiveBayes 0.8177611713935115\n"
     ]
    }
   ],
   "source": [
    "nb=GaussianNB()\n",
    "grid_nb=cross_val_score(nb,x_train,y_train,scoring='accuracy',cv=5, n_jobs = -1)\n",
    "print('NaiveBayes',np.mean(grid_nb))"
   ]
  },
  {
   "cell_type": "markdown",
   "id": "43265fab",
   "metadata": {},
   "source": [
    "### Random Forest Classifier"
   ]
  },
  {
   "cell_type": "code",
   "execution_count": 21,
   "id": "6c4c6227",
   "metadata": {},
   "outputs": [
    {
     "name": "stdout",
     "output_type": "stream",
     "text": [
      "RFCScore 0.8453459288256404\n",
      "RFCParams {'n_estimators': 250, 'min_samples_split': 2, 'min_samples_leaf': 3, 'max_features': 'auto', 'max_depth': 80}\n"
     ]
    }
   ],
   "source": [
    "rf = RandomForestClassifier(n_jobs=-1)\n",
    "\n",
    "rf_values = {'max_depth': [10, 20, 30, 40, 50, 60, 70, 80, 90, 100, None],\n",
    "             'min_samples_leaf': [1, 2, 3, 4, 5],\n",
    "             'min_samples_split': [2, 5, 7, 9, 11],\n",
    "             'max_features': ['auto', 'sqrt'],\n",
    "             'n_estimators': [150, 250, 350, 450, 500, 550, 600, 650],            \n",
    "              }\n",
    "    \n",
    "grid_rf = RandomizedSearchCV(rf, rf_values, cv=5, n_jobs = -1)\n",
    "grid_rf.fit(x_train, y_train)\n",
    "print('RFCScore', grid_rf.best_score_)\n",
    "print('RFCParams', grid_rf.best_params_)"
   ]
  },
  {
   "cell_type": "markdown",
   "id": "bcd5006e",
   "metadata": {},
   "source": [
    "### XGBoost"
   ]
  },
  {
   "cell_type": "code",
   "execution_count": 22,
   "id": "ad2f0016",
   "metadata": {},
   "outputs": [
    {
     "name": "stdout",
     "output_type": "stream",
     "text": [
      "[13:46:49] WARNING: C:/Users/Administrator/workspace/xgboost-win64_release_1.4.0/src/learner.cc:1095: Starting in XGBoost 1.3.0, the default evaluation metric used with the objective 'binary:logistic' was changed from 'error' to 'logloss'. Explicitly set eval_metric if you'd like to restore the old behavior.\n",
      "XGBScore 0.852325660289347\n",
      "XGBParams {'n_estimators': 50, 'min_child_weight': 1, 'max_depth': 7, 'learning_rate': 0.2, 'gamma': 0.3, 'colsample_bytree': 0.5}\n"
     ]
    }
   ],
   "source": [
    "xg=XGBClassifier(n_jobs = -1)\n",
    "\n",
    "xg_values={\n",
    "    'colsample_bytree': [0.3,0.4,0.5,0.7],\n",
    "    'gamma': [0.0,0.1,0.2,0.3,0.4],\n",
    "    'learning_rate': [0.05,0.10,0.15,0.20,0.25,0.30],\n",
    "    'max_depth': [3,4,5,6,7,8,10,12,15],\n",
    "    'min_child_weight': [1,3,5,7],\n",
    "    'n_estimators': [50,70,85,100,125,150,175,200]    \n",
    "    }\n",
    "\n",
    "grid_xg=RandomizedSearchCV(xg,xg_values,cv=10,n_jobs=-1)\n",
    "grid_xg.fit(x_train, y_train)\n",
    "print('XGBScore', grid_xg.best_score_)\n",
    "print('XGBParams', grid_xg.best_params_)"
   ]
  },
  {
   "cell_type": "markdown",
   "id": "1cc21ee9",
   "metadata": {},
   "source": [
    "### AdaBoost"
   ]
  },
  {
   "cell_type": "code",
   "execution_count": 23,
   "id": "e48fb587",
   "metadata": {},
   "outputs": [
    {
     "name": "stdout",
     "output_type": "stream",
     "text": [
      "XGBScore 0.846102649638493\n",
      "XGBParams {'n_estimators': 600, 'learning_rate': 0.5}\n"
     ]
    }
   ],
   "source": [
    "ab = AdaBoostClassifier()\n",
    "\n",
    "ab_values = {'n_estimators':[50,100,150,200,250,300,350,400,450,500,550,600],\n",
    "            'learning_rate':[0.05,0.1,0.3,0.5]\n",
    "              }\n",
    "    \n",
    "grid_ab = RandomizedSearchCV(ab, ab_values, cv=10, n_jobs = -1)\n",
    "grid_ab.fit(x_train, y_train)\n",
    "print('XGBScore', grid_ab.best_score_)\n",
    "print('XGBParams', grid_ab.best_params_)"
   ]
  },
  {
   "cell_type": "code",
   "execution_count": 24,
   "id": "9177d247",
   "metadata": {},
   "outputs": [
    {
     "name": "stdout",
     "output_type": "stream",
     "text": [
      "              precision    recall  f1-score   support\n",
      "\n",
      "           0       0.88      0.95      0.91      3231\n",
      "           1       0.67      0.42      0.52       733\n",
      "\n",
      "    accuracy                           0.85      3964\n",
      "   macro avg       0.77      0.69      0.71      3964\n",
      "weighted avg       0.84      0.85      0.84      3964\n",
      "\n"
     ]
    }
   ],
   "source": [
    "y_pred=grid_xg.predict(x_test)\n",
    "print(classification_report(y_test,y_pred))"
   ]
  }
 ],
 "metadata": {
  "kernelspec": {
   "display_name": "Python 3",
   "language": "python",
   "name": "python3"
  },
  "language_info": {
   "codemirror_mode": {
    "name": "ipython",
    "version": 3
   },
   "file_extension": ".py",
   "mimetype": "text/x-python",
   "name": "python",
   "nbconvert_exporter": "python",
   "pygments_lexer": "ipython3",
   "version": "3.8.8"
  }
 },
 "nbformat": 4,
 "nbformat_minor": 5
}
